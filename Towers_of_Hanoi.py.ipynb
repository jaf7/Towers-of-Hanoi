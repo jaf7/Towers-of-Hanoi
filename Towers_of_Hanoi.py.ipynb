{
 "cells": [
  {
   "cell_type": "code",
   "execution_count": 7,
   "metadata": {
    "collapsed": false
   },
   "outputs": [],
   "source": [
    "def printMove(from_position, to_position):\n",
    "    print('move: ' + 'top disc at ' + str(from_position) + ' --> ' + str(to_position))\n",
    "    \n",
    "def Towers(n, from_position, to_position, spare):\n",
    "    if n == 1:\n",
    "        printMove(from_position, to_position)\n",
    "    else:\n",
    "        Towers(n-1, from_position, spare, to_position)\n",
    "        Towers(1, from_position, to_position, spare)\n",
    "        Towers(n-1, spare, to_position, from_position)"
   ]
  },
  {
   "cell_type": "code",
   "execution_count": null,
   "metadata": {
    "collapsed": false
   },
   "outputs": [],
   "source": [
    "Towers(5, 'from_position', 'to_position', 'spare_position')\n"
   ]
  }
 ],
 "metadata": {
  "kernelspec": {
   "display_name": "Python 2",
   "language": "python",
   "name": "python2"
  },
  "language_info": {
   "codemirror_mode": {
    "name": "ipython",
    "version": 2
   },
   "file_extension": ".py",
   "mimetype": "text/x-python",
   "name": "python",
   "nbconvert_exporter": "python",
   "pygments_lexer": "ipython2",
   "version": "2.7.12"
  }
 },
 "nbformat": 4,
 "nbformat_minor": 0
}
